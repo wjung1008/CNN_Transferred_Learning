{
  "nbformat": 4,
  "nbformat_minor": 0,
  "metadata": {
    "colab": {
      "name": "MNIST_CNN.ipynb",
      "provenance": [],
      "authorship_tag": "ABX9TyM0kSMv0KadpgtDVjGvActS",
      "include_colab_link": true
    },
    "kernelspec": {
      "name": "python3",
      "display_name": "Python 3"
    },
    "accelerator": "GPU"
  },
  "cells": [
    {
      "cell_type": "markdown",
      "metadata": {
        "id": "view-in-github",
        "colab_type": "text"
      },
      "source": [
        "<a href=\"https://colab.research.google.com/github/wjung1008/CNN_Transferred_Learning/blob/master/MNIST_CNN.ipynb\" target=\"_parent\"><img src=\"https://colab.research.google.com/assets/colab-badge.svg\" alt=\"Open In Colab\"/></a>"
      ]
    },
    {
      "cell_type": "code",
      "metadata": {
        "id": "Q2uaowTuKLju",
        "colab_type": "code",
        "colab": {
          "base_uri": "https://localhost:8080/",
          "height": 35
        },
        "outputId": "2fc36b4f-633d-4750-c0ae-ceba3ba83890"
      },
      "source": [
        "import keras\n",
        "from keras.datasets import mnist\n",
        "from keras.models import Sequential\n",
        "from keras.layers import Dense, Dropout, Flatten\n",
        "from keras.layers import Conv2D, MaxPooling2D\n",
        "from keras import backend as K"
      ],
      "execution_count": 1,
      "outputs": [
        {
          "output_type": "stream",
          "text": [
            "Using TensorFlow backend.\n"
          ],
          "name": "stderr"
        }
      ]
    },
    {
      "cell_type": "code",
      "metadata": {
        "id": "-Yzlk-YlKWFW",
        "colab_type": "code",
        "colab": {
          "base_uri": "https://localhost:8080/",
          "height": 53
        },
        "outputId": "e14446eb-39b9-43db-ecc4-9255ca130431"
      },
      "source": [
        "batch_size = 128\n",
        "num_classes = 10\n",
        "epochs = 12\n",
        "\n",
        "# input image dimensions\n",
        "img_rows, img_cols = 28, 28\n",
        "\n",
        "# the data, split between train and test sets\n",
        "(x_train, y_train), (x_test, y_test) = mnist.load_data()"
      ],
      "execution_count": 3,
      "outputs": [
        {
          "output_type": "stream",
          "text": [
            "Downloading data from https://s3.amazonaws.com/img-datasets/mnist.npz\n",
            "11493376/11490434 [==============================] - 0s 0us/step\n"
          ],
          "name": "stdout"
        }
      ]
    },
    {
      "cell_type": "code",
      "metadata": {
        "id": "HkaIA1YTKe1q",
        "colab_type": "code",
        "colab": {}
      },
      "source": [
        "x_train = x_train.reshape(x_train.shape[0], img_rows, img_cols, 1)\n",
        "x_test = x_test.reshape(x_test.shape[0], img_rows, img_cols, 1)\n",
        "input_shape = (img_rows, img_cols, 1)"
      ],
      "execution_count": 4,
      "outputs": []
    },
    {
      "cell_type": "code",
      "metadata": {
        "id": "ziVZHv8BKq6-",
        "colab_type": "code",
        "colab": {
          "base_uri": "https://localhost:8080/",
          "height": 53
        },
        "outputId": "6536da32-9eea-461f-9e2f-e35fab70d155"
      },
      "source": [
        "x_train = x_train.astype('float32')\n",
        "x_test = x_test.astype('float32')\n",
        "x_train /= 255\n",
        "x_test /= 255\n",
        "print('x_train shape:', x_train.shape)\n",
        "print(x_train.shape[0], 'train samples')"
      ],
      "execution_count": 5,
      "outputs": [
        {
          "output_type": "stream",
          "text": [
            "x_train shape: (60000, 28, 28, 1)\n",
            "60000 train samples\n"
          ],
          "name": "stdout"
        }
      ]
    },
    {
      "cell_type": "code",
      "metadata": {
        "id": "BP3SdVUhKtNg",
        "colab_type": "code",
        "colab": {}
      },
      "source": [
        "# convert class vectors to binary class matrices\n",
        "y_train = keras.utils.to_categorical(y_train, num_classes)\n",
        "y_test = keras.utils.to_categorical(y_test, num_classes)\n"
      ],
      "execution_count": 6,
      "outputs": []
    },
    {
      "cell_type": "code",
      "metadata": {
        "id": "qrO_IOa9KvGs",
        "colab_type": "code",
        "colab": {}
      },
      "source": [
        "model = Sequential()\n",
        "model.add(Conv2D(32, kernel_size=(3, 3),\n",
        "                 activation='relu',\n",
        "                 input_shape=input_shape))\n",
        "model.add(Conv2D(64, (3, 3), activation='relu'))\n",
        "model.add(MaxPooling2D(pool_size=(2, 2)))\n",
        "model.add(Dropout(0.25))\n",
        "model.add(Flatten())\n",
        "model.add(Dense(128, activation='relu'))\n",
        "model.add(Dropout(0.5))\n",
        "model.add(Dense(num_classes, activation='softmax'))\n",
        "\n",
        "model.compile(loss=keras.losses.categorical_crossentropy,\n",
        "              optimizer=keras.optimizers.Adadelta(),\n",
        "              metrics=['accuracy'])"
      ],
      "execution_count": 7,
      "outputs": []
    },
    {
      "cell_type": "code",
      "metadata": {
        "id": "kOe1tUXiKxj5",
        "colab_type": "code",
        "colab": {
          "base_uri": "https://localhost:8080/",
          "height": 503
        },
        "outputId": "60a89877-9c2d-4fc2-cf0b-dcbce0004fbf"
      },
      "source": [
        "model.fit(x_train, y_train,\n",
        "          batch_size=batch_size,\n",
        "          epochs=epochs,\n",
        "          verbose=1,\n",
        "          validation_data=(x_test, y_test))\n",
        "score = model.evaluate(x_test, y_test, verbose=0)\n",
        "print('Test loss:', score[0])\n",
        "print('Test accuracy:', score[1])"
      ],
      "execution_count": 8,
      "outputs": [
        {
          "output_type": "stream",
          "text": [
            "Train on 60000 samples, validate on 10000 samples\n",
            "Epoch 1/12\n",
            "60000/60000 [==============================] - 15s 251us/step - loss: 0.2603 - accuracy: 0.9200 - val_loss: 0.0576 - val_accuracy: 0.9812\n",
            "Epoch 2/12\n",
            "60000/60000 [==============================] - 9s 149us/step - loss: 0.0855 - accuracy: 0.9740 - val_loss: 0.0450 - val_accuracy: 0.9847\n",
            "Epoch 3/12\n",
            "60000/60000 [==============================] - 9s 150us/step - loss: 0.0644 - accuracy: 0.9808 - val_loss: 0.0328 - val_accuracy: 0.9886\n",
            "Epoch 4/12\n",
            "60000/60000 [==============================] - 9s 149us/step - loss: 0.0557 - accuracy: 0.9827 - val_loss: 0.0326 - val_accuracy: 0.9885\n",
            "Epoch 5/12\n",
            "60000/60000 [==============================] - 9s 149us/step - loss: 0.0458 - accuracy: 0.9860 - val_loss: 0.0307 - val_accuracy: 0.9905\n",
            "Epoch 6/12\n",
            "60000/60000 [==============================] - 9s 149us/step - loss: 0.0402 - accuracy: 0.9879 - val_loss: 0.0285 - val_accuracy: 0.9908\n",
            "Epoch 7/12\n",
            "60000/60000 [==============================] - 9s 151us/step - loss: 0.0363 - accuracy: 0.9894 - val_loss: 0.0293 - val_accuracy: 0.9896\n",
            "Epoch 8/12\n",
            "60000/60000 [==============================] - 9s 149us/step - loss: 0.0347 - accuracy: 0.9894 - val_loss: 0.0273 - val_accuracy: 0.9910\n",
            "Epoch 9/12\n",
            "60000/60000 [==============================] - 9s 150us/step - loss: 0.0324 - accuracy: 0.9902 - val_loss: 0.0286 - val_accuracy: 0.9904\n",
            "Epoch 10/12\n",
            "60000/60000 [==============================] - 9s 150us/step - loss: 0.0303 - accuracy: 0.9905 - val_loss: 0.0263 - val_accuracy: 0.9919\n",
            "Epoch 11/12\n",
            "60000/60000 [==============================] - 9s 148us/step - loss: 0.0281 - accuracy: 0.9915 - val_loss: 0.0281 - val_accuracy: 0.9919\n",
            "Epoch 12/12\n",
            "60000/60000 [==============================] - 9s 150us/step - loss: 0.0258 - accuracy: 0.9922 - val_loss: 0.0279 - val_accuracy: 0.9927\n",
            "Test loss: 0.027856718023128998\n",
            "Test accuracy: 0.9926999807357788\n"
          ],
          "name": "stdout"
        }
      ]
    }
  ]
}